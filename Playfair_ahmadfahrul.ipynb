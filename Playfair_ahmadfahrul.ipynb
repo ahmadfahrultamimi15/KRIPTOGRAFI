{
  "nbformat": 4,
  "nbformat_minor": 0,
  "metadata": {
    "colab": {
      "provenance": [],
      "authorship_tag": "ABX9TyP5mjSp8nm9tLziKXyiUfxs",
      "include_colab_link": true
    },
    "kernelspec": {
      "name": "python3",
      "display_name": "Python 3"
    },
    "language_info": {
      "name": "python"
    }
  },
  "cells": [
    {
      "cell_type": "markdown",
      "metadata": {
        "id": "view-in-github",
        "colab_type": "text"
      },
      "source": [
        "<a href=\"https://colab.research.google.com/github/ahmadfahrultamimi15/KRIPTOGRAFI/blob/main/Playfair_ahmadfahrul.ipynb\" target=\"_parent\"><img src=\"https://colab.research.google.com/assets/colab-badge.svg\" alt=\"Open In Colab\"/></a>"
      ]
    },
    {
      "cell_type": "code",
      "execution_count": null,
      "metadata": {
        "colab": {
          "base_uri": "https://localhost:8080/"
        },
        "id": "24FIdsFOLXr3",
        "outputId": "d0c4cb39-1add-404c-a3f6-c3d1f04c81fc"
      },
      "outputs": [
        {
          "output_type": "stream",
          "name": "stdout",
          "text": [
            "Masukan Key : Free Palestine\n",
            "Masukkan plain text: Fahrul\n",
            "Hasil enkripsi: ANKFVA\n"
          ]
        }
      ],
      "source": [
        "def prepare_message(text):\n",
        "    text = text.upper().replace(\"J\", \"I\")\n",
        "    text = ''.join(filter(str.isalpha, text))\n",
        "    # Padding dengan 'X' jika jumlah karakter ganjil\n",
        "    if len(text) % 2 != 0:\n",
        "        text += \"X\"\n",
        "    return text\n",
        "\n",
        "def build_playfair_matrix(key):\n",
        "    key = key.upper().replace(\"J\", \"I\")\n",
        "    key = ''.join(sorted(set(key), key=key.index))\n",
        "    alphabet = \"ABCDEFGHIKLMNOPQRSTUVWXYZ\"\n",
        "    matrix = []\n",
        "\n",
        "    for char in key:\n",
        "        if char not in matrix:\n",
        "            matrix.append(char)\n",
        "\n",
        "    for char in alphabet:\n",
        "        if char not in matrix:\n",
        "            matrix.append(char)\n",
        "\n",
        "    playfair_matrix = [matrix[i:i+5] for i in range(0, 25, 5)]\n",
        "    return playfair_matrix\n",
        "\n",
        "def find_char_position(matrix, char):\n",
        "    for i in range(5):\n",
        "        for j in range(5):\n",
        "            if matrix[i][j] == char:\n",
        "                return i, j\n",
        "\n",
        "def playfair_encrypt(plain_text, key):\n",
        "    plain_text = prepare_message(plain_text)\n",
        "    playfair_matrix = build_playfair_matrix(key)\n",
        "    cipher_text = \"\"\n",
        "\n",
        "    for i in range(0, len(plain_text), 2):\n",
        "        char1, char2 = plain_text[i], plain_text[i + 1]\n",
        "        row1, col1 = find_char_position(playfair_matrix, char1)\n",
        "        row2, col2 = find_char_position(playfair_matrix, char2)\n",
        "\n",
        "        if row1 == row2:\n",
        "            cipher_text += playfair_matrix[row1][(col1 + 1) % 5]\n",
        "            cipher_text += playfair_matrix[row2][(col2 + 1) % 5]\n",
        "        elif col1 == col2:\n",
        "            cipher_text += playfair_matrix[(row1 + 1) % 5][col1]\n",
        "            cipher_text += playfair_matrix[(row2 + 1) % 5][col2]\n",
        "        else:\n",
        "            cipher_text += playfair_matrix[row1][col2]\n",
        "            cipher_text += playfair_matrix[row2][col1]\n",
        "\n",
        "    return cipher_text\n",
        "\n",
        "def main():\n",
        "    key = input(\"Masukan Key : \")\n",
        "    plain_text = input(\"Masukkan plain text: \")\n",
        "    cipher_text = playfair_encrypt(plain_text, key)\n",
        "    print(f\"Hasil enkripsi: {cipher_text}\")\n",
        "\n",
        "if __name__ == \"__main__\":\n",
        "    main()\n"
      ]
    }
  ]
}