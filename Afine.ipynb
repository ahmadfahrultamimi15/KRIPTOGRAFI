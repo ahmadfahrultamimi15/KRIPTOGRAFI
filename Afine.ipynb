{
  "nbformat": 4,
  "nbformat_minor": 0,
  "metadata": {
    "colab": {
      "provenance": [],
      "authorship_tag": "ABX9TyPyemh2/3FCFpuR+FqsPV4t",
      "include_colab_link": true
    },
    "kernelspec": {
      "name": "python3",
      "display_name": "Python 3"
    },
    "language_info": {
      "name": "python"
    }
  },
  "cells": [
    {
      "cell_type": "markdown",
      "metadata": {
        "id": "view-in-github",
        "colab_type": "text"
      },
      "source": [
        "<a href=\"https://colab.research.google.com/github/ahmadfahrultamimi15/KRIPTOGRAFI/blob/main/Afine.ipynb\" target=\"_parent\"><img src=\"https://colab.research.google.com/assets/colab-badge.svg\" alt=\"Open In Colab\"/></a>"
      ]
    },
    {
      "cell_type": "code",
      "execution_count": null,
      "metadata": {
        "colab": {
          "base_uri": "https://localhost:8080/"
        },
        "id": "8NUHZx27hgZ5",
        "outputId": "15417d3a-b3f4-4eb7-acf3-453fd3a8fc26"
      },
      "outputs": [
        {
          "output_type": "stream",
          "name": "stdout",
          "text": [
            "Masukkan teks sandi Affine Cipher: ahrul\n",
            "Masukkan nilai 'a' : 1\n",
            "Masukkan nilai 'b' : 2\n",
            "Teks Sandi: ahrul\n",
            "Teks Terdekripsi: YFPSJ\n"
          ]
        }
      ],
      "source": [
        "def mod_inverse(a, m):\n",
        "    for i in range(1, m):\n",
        "        if (a * i) % m == 1:\n",
        "            return i\n",
        "    return None\n",
        "\n",
        "def affine_decrypt(ciphertext, a, b):\n",
        "    decrypted_text = \"\"\n",
        "    m = 26  # Jumlah huruf dalam alfabet\n",
        "\n",
        "    a_inverse = mod_inverse(a, m)\n",
        "    if a_inverse is None:\n",
        "        raise ValueError(\"Key 'a' tidak memiliki invers modulo 26\")\n",
        "\n",
        "    for char in ciphertext:\n",
        "        if char.isalpha():\n",
        "            char = char.upper()\n",
        "            decrypted_char = chr(((a_inverse * (ord(char) - ord('A') - b)) % m) + ord('A'))\n",
        "            decrypted_text += decrypted_char\n",
        "        else:\n",
        "            decrypted_text += char\n",
        "\n",
        "    return decrypted_text\n",
        "\n",
        "# Meminta pengguna memasukkan teks sandi\n",
        "ciphertext = input(\"Masukkan teks sandi Affine Cipher: \")\n",
        "a = int(input(\"Masukkan nilai 'a' : \"))\n",
        "b = int(input(\"Masukkan nilai 'b' : \"))\n",
        "\n",
        "# Mendekripsi teks\n",
        "decrypted_text = affine_decrypt(ciphertext, a, b)\n",
        "\n",
        "# Menampilkan hasil dekripsi\n",
        "print(\"Teks Sandi:\", ciphertext)\n",
        "print(\"Teks Terdekripsi:\", decrypted_text)\n"
      ]
    }
  ]
}