{
  "nbformat": 4,
  "nbformat_minor": 0,
  "metadata": {
    "colab": {
      "provenance": [],
      "authorship_tag": "ABX9TyPLhApj3EBZFiPDSlOPCUR3",
      "include_colab_link": true
    },
    "kernelspec": {
      "name": "python3",
      "display_name": "Python 3"
    },
    "language_info": {
      "name": "python"
    }
  },
  "cells": [
    {
      "cell_type": "markdown",
      "metadata": {
        "id": "view-in-github",
        "colab_type": "text"
      },
      "source": [
        "<a href=\"https://colab.research.google.com/github/ahmadfahrultamimi15/KRIPTOGRAFI/blob/main/Hillchiper.ipynb\" target=\"_parent\"><img src=\"https://colab.research.google.com/assets/colab-badge.svg\" alt=\"Open In Colab\"/></a>"
      ]
    },
    {
      "cell_type": "code",
      "execution_count": null,
      "metadata": {
        "id": "UGzattz2JzBW",
        "colab": {
          "base_uri": "https://localhost:8080/"
        },
        "outputId": "ef977c89-d045-430c-a1f5-f82ebba57b5d"
      },
      "outputs": [
        {
          "output_type": "stream",
          "name": "stdout",
          "text": [
            "Masukkan teks yang akan dienkripsi (huruf kapital): AHRUL TAMIMI\n",
            "Masukkan kunci matriks (contoh: 1 2 3 4 untuk matriks 2x2): 4\n",
            "Teks yang dienkripsi: ACQCSYYAWGWG\n"
          ]
        }
      ],
      "source": [
        "import numpy as np\n",
        "\n",
        "def text_to_matrix(text, n):\n",
        "    # Konversi teks ke matriks huruf\n",
        "    matrix = [ord(char) - ord('A') for char in text]\n",
        "    # Menambahkan padding jika diperlukan\n",
        "    while len(matrix) % n != 0:\n",
        "        matrix.append(23)  # Huruf 'X' sebagai padding\n",
        "    # Mengonversi matriks ke matriks n x n\n",
        "    return np.array(matrix).reshape(-1, n)\n",
        "\n",
        "def matrix_to_text(matrix):\n",
        "    # Mengonversi matriks kembali ke teks\n",
        "    return ''.join([chr(int(char) + ord('A')) for char in matrix.flatten()])\n",
        "\n",
        "def encrypt(plain_text, key_matrix):\n",
        "    n = len(key_matrix)\n",
        "    plain_matrix = text_to_matrix(plain_text, n)\n",
        "    # Mengenkripsi menggunakan kunci matriks\n",
        "    encrypted_matrix = np.dot(plain_matrix, key_matrix) % 26\n",
        "    # Mengonversi matriks hasil enkripsi ke teks\n",
        "    encrypted_text = matrix_to_text(encrypted_matrix)\n",
        "    return encrypted_text\n",
        "\n",
        "def main():\n",
        "    # Memasukkan teks dan kunci dari pengguna\n",
        "    plain_text = input(\"Masukkan teks yang akan dienkripsi (huruf kapital): \")\n",
        "    key = input(\"Masukkan kunci matriks (contoh: 1 2 3 4 untuk matriks 2x2): \")\n",
        "    key_matrix = np.array(list(map(int, key.split()))).reshape(-1, len(key.split()))\n",
        "\n",
        "    # Memastikan matriks kunci memiliki determinan yang tidak nol\n",
        "    while np.linalg.det(key_matrix) == 0:\n",
        "        print(\"Determinan matriks kunci tidak boleh nol. Silakan masukkan kunci lain.\")\n",
        "        key = input(\"Masukkan kunci matriks: \")\n",
        "        key_matrix = np.array(list(map(int, key.split()))).reshape(-1, len(key.split()))\n",
        "\n",
        "    # Mengenkripsi teks\n",
        "    encrypted_text = encrypt(plain_text, key_matrix)\n",
        "    print(\"Teks yang dienkripsi:\", encrypted_text)\n",
        "\n",
        "if __name__ == \"__main__\":\n",
        "    main()\n"
      ]
    }
  ]
}