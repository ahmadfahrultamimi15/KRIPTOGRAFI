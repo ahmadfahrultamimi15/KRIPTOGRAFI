{
  "nbformat": 4,
  "nbformat_minor": 0,
  "metadata": {
    "colab": {
      "provenance": [],
      "authorship_tag": "ABX9TyN6yNo6x6mtvYquchcj58aO",
      "include_colab_link": true
    },
    "kernelspec": {
      "name": "python3",
      "display_name": "Python 3"
    },
    "language_info": {
      "name": "python"
    }
  },
  "cells": [
    {
      "cell_type": "markdown",
      "metadata": {
        "id": "view-in-github",
        "colab_type": "text"
      },
      "source": [
        "<a href=\"https://colab.research.google.com/github/ahmadfahrultamimi15/KRIPTOGRAFI/blob/main/Pertemuan11.ipynb\" target=\"_parent\"><img src=\"https://colab.research.google.com/assets/colab-badge.svg\" alt=\"Open In Colab\"/></a>"
      ]
    },
    {
      "cell_type": "code",
      "execution_count": null,
      "metadata": {
        "colab": {
          "base_uri": "https://localhost:8080/"
        },
        "id": "M04iquX4wW_n",
        "outputId": "d294726c-6512-4fd5-a8a1-98506363499f"
      },
      "outputs": [
        {
          "output_type": "stream",
          "name": "stdout",
          "text": [
            "plain text: Rusdi\n",
            "Kunci: CRUSH\n",
            "Hasil Enkripsi: \u0015GH71\n",
            "Hasil Deskripsi: Rusdi\n"
          ]
        }
      ],
      "source": [
        "def encrypt(text, key):\n",
        "    result = \"\"\n",
        "    key_length = len(key)\n",
        "\n",
        "    for i in range(len(text)):\n",
        "        char = text[i]\n",
        "        key_char = key[i % key_length]\n",
        "        encrypted_char = chr((ord(char) + ord(key_char)) % 128)\n",
        "        result += encrypted_char\n",
        "\n",
        "    return result\n",
        "\n",
        "def decrypt(ciphertext, key):\n",
        "    result = \"\"\n",
        "    key_length = len(key)\n",
        "\n",
        "    for i in range(len(ciphertext)):\n",
        "        char = ciphertext[i]\n",
        "        key_char = key[i % key_length]\n",
        "        decrypted_char = chr((ord(char) - ord(key_char)) % 128)\n",
        "        result += decrypted_char\n",
        "\n",
        "    return result\n",
        "\n",
        "# Example usage:\n",
        "plain_text = \"Rusdi\"\n",
        "key = \"CRUSH\"\n",
        "\n",
        "# Encryption\n",
        "encrypted_text = encrypt(plain_text, key)\n",
        "print(f\"plain text: {plain_text}\\nKunci: {key}\\nHasil Enkripsi: {encrypted_text}\")\n",
        "\n",
        "# Decryption\n",
        "decrypted_text = decrypt(encrypted_text, key)\n",
        "print(f\"Hasil Deskripsi: {decrypted_text}\")\n"
      ]
    }
  ]
}