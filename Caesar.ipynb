{
  "nbformat": 4,
  "nbformat_minor": 0,
  "metadata": {
    "colab": {
      "provenance": [],
      "authorship_tag": "ABX9TyO+MeyTvqurDQ/5VBRSs7ua",
      "include_colab_link": true
    },
    "kernelspec": {
      "name": "python3",
      "display_name": "Python 3"
    },
    "language_info": {
      "name": "python"
    }
  },
  "cells": [
    {
      "cell_type": "markdown",
      "metadata": {
        "id": "view-in-github",
        "colab_type": "text"
      },
      "source": [
        "<a href=\"https://colab.research.google.com/github/ahmadfahrultamimi15/KRIPTOGRAFI/blob/main/Caesar.ipynb\" target=\"_parent\"><img src=\"https://colab.research.google.com/assets/colab-badge.svg\" alt=\"Open In Colab\"/></a>"
      ]
    },
    {
      "cell_type": "code",
      "execution_count": 1,
      "metadata": {
        "id": "AjgLPeIiAStD",
        "outputId": "1cee1208-cc91-4a7c-9e5e-ba11b5fffd5e",
        "colab": {
          "base_uri": "https://localhost:8080/"
        }
      },
      "outputs": [
        {
          "name": "stdout",
          "output_type": "stream",
          "text": [
            "Pilih operasi (1: Enkripsi, 2: Dekripsi, 0: Keluar): 1\n",
            "Masukkan teks: AHMAD FAHRUL TAMIMI\n",
            "Masukkan kunci (angka pergeseran): 5\n",
            "Teks terenkripsi: FMRFI KFMWZQ YFRNRN\n",
            "Pilih operasi (1: Enkripsi, 2: Dekripsi, 0: Keluar): 0\n"
          ]
        }
      ],
      "source": [
        "def caesar_cipher(text, key, mode):\n",
        "    result = \"\"\n",
        "    for char in text:\n",
        "        if char.isalpha():\n",
        "            shift = 65 if char.isupper() else 97\n",
        "            result += chr(((ord(char) - shift + key * mode) % 26) + shift)\n",
        "        else:\n",
        "            result += char\n",
        "    return result\n",
        "\n",
        "def main():\n",
        "    while True:\n",
        "        choice = input(\"Pilih operasi (1: Enkripsi, 2: Dekripsi, 0: Keluar): \")\n",
        "\n",
        "        if choice == \"0\":\n",
        "            break\n",
        "\n",
        "        if choice not in (\"1\", \"2\"):\n",
        "            print(\"Pilihan tidak valid. Silakan pilih 1, 2, atau 0.\")\n",
        "            continue\n",
        "\n",
        "        text = input(\"Masukkan teks: \")\n",
        "        key = int(input(\"Masukkan kunci (angka pergeseran): \"))\n",
        "\n",
        "        if choice == \"1\":\n",
        "            encrypted_text = caesar_cipher(text, key, 1)\n",
        "            print(f\"Teks terenkripsi: {encrypted_text}\")\n",
        "        elif choice == \"2\":\n",
        "            decrypted_text = caesar_cipher(text, key, -1)\n",
        "            print(f\"Teks terdekripsi: {decrypted_text}\")\n",
        "\n",
        "if __name__ == \"__main__\":\n",
        "    main()"
      ]
    }
  ]
}