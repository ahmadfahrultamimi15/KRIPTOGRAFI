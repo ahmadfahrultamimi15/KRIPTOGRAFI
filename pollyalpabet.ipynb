{
  "nbformat": 4,
  "nbformat_minor": 0,
  "metadata": {
    "colab": {
      "provenance": [],
      "authorship_tag": "ABX9TyNpr07G5SULLpUTdbZujvnL",
      "include_colab_link": true
    },
    "kernelspec": {
      "name": "python3",
      "display_name": "Python 3"
    },
    "language_info": {
      "name": "python"
    }
  },
  "cells": [
    {
      "cell_type": "markdown",
      "metadata": {
        "id": "view-in-github",
        "colab_type": "text"
      },
      "source": [
        "<a href=\"https://colab.research.google.com/github/ahmadfahrultamimi15/KRIPTOGRAFI/blob/main/pollyalpabet.ipynb\" target=\"_parent\"><img src=\"https://colab.research.google.com/assets/colab-badge.svg\" alt=\"Open In Colab\"/></a>"
      ]
    },
    {
      "cell_type": "code",
      "execution_count": null,
      "metadata": {
        "colab": {
          "base_uri": "https://localhost:8080/"
        },
        "id": "8BnXfFGKmRBq",
        "outputId": "34c10bd8-dd6e-4867-b254-230e19c9a968"
      },
      "outputs": [
        {
          "output_type": "stream",
          "name": "stdout",
          "text": [
            "Masukkan plain text untuk dienkripsi: Ahmad Fahrul \n",
            "Masukkan kunci: UPB\n",
            "\n",
            "Teks Awal: Ahmad Fahrul \n",
            "Kunci: UPB\n",
            "Teks Terenkripsi: Tuznq Ynuehy \n"
          ]
        }
      ],
      "source": [
        "import random\n",
        "\n",
        "def generate_random_alphabet():\n",
        "    # Membuat alfabet acak\n",
        "    alphabet = list(\"ABCDEFGHIJKLMNOPQRSTUVWXYZ\")\n",
        "    random.shuffle(alphabet)\n",
        "    return ''.join(alphabet)\n",
        "\n",
        "def polyalphabetic_encrypt(plain_text, key):\n",
        "    # Membuat tabel alfabet acak berdasarkan kunci\n",
        "    key_alphabet = generate_random_alphabet()\n",
        "\n",
        "    # Inisialisasi variabel untuk menyimpan teks terenkripsi\n",
        "    encrypted_text = \"\"\n",
        "\n",
        "    for char in plain_text:\n",
        "        # Periksa apakah karakter merupakan huruf\n",
        "        if char.isalpha():\n",
        "            # Tentukan alfabet acak untuk karakter kunci\n",
        "            key_char = key_alphabet[ord(key[0].upper()) - 65]\n",
        "\n",
        "            # Enkripsi karakter\n",
        "            if char.isupper():\n",
        "                encrypted_text += chr((ord(char) + ord(key_char) - 130) % 26 + 65)\n",
        "            else:\n",
        "                encrypted_text += chr((ord(char) + ord(key_char) - 194) % 26 + 97)\n",
        "        else:\n",
        "            # Jika karakter bukan huruf, tambahkan ke teks terenkripsi tanpa perubahan\n",
        "            encrypted_text += char\n",
        "\n",
        "    return encrypted_text\n",
        "\n",
        "# Input plain text\n",
        "plain_text = input(\"Masukkan plain text untuk dienkripsi: \")\n",
        "# Input kunci\n",
        "key = input(\"Masukkan kunci: \")\n",
        "\n",
        "# Enkripsi plain text\n",
        "encrypted_text = polyalphabetic_encrypt(plain_text, key)\n",
        "\n",
        "# Menampilkan hasil enkripsi\n",
        "print(\"\\nTeks Awal:\", plain_text)\n",
        "print(\"Kunci:\", key)\n",
        "print(\"Teks Terenkripsi:\", encrypted_text)\n"
      ]
    }
  ]
}